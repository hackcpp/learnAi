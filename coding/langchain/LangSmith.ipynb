{
 "cells": [
  {
   "cell_type": "code",
   "execution_count": 1,
   "metadata": {},
   "outputs": [
    {
     "name": "stdout",
     "output_type": "stream",
     "text": [
      "id=UUID('11361dc6-4480-4354-915d-2d26c28bdb31') start_time=datetime.datetime(2025, 2, 20, 2, 35, 16, 648882, tzinfo=datetime.timezone.utc) end_time=None description=None name='Demo' extra=None tenant_id=UUID('4474ca55-1be6-490c-af88-223030ccb9ef') reference_dataset_id=None\n",
      "id=UUID('b6cd3d42-b9b4-49f2-a3bf-e702e1d433c6') start_time=datetime.datetime(2025, 2, 19, 22, 29, 20, 973000, tzinfo=datetime.timezone.utc) end_time=None description=None name='default' extra=None tenant_id=UUID('4474ca55-1be6-490c-af88-223030ccb9ef') reference_dataset_id=None\n"
     ]
    }
   ],
   "source": [
    "from langsmith import Client\n",
    "\n",
    "# 测试连接\n",
    "try:\n",
    "    client = Client()\n",
    "    for p in  client.list_projects():\n",
    "        print(p)\n",
    "    # print(\"连接成功！项目列表:\", client.list_projects())\n",
    "except Exception as e:\n",
    "    print(\"连接失败:\", str(e))\n",
    "\n",
    "from langchain_deepseek import ChatDeepSeek\n",
    "from langchain_core.prompts import ChatPromptTemplate\n",
    "from langchain_core.output_parsers import StrOutputParser\n",
    "from langchain_core.runnables import RunnableParallel\n",
    "\n",
    "import os\n",
    "from dotenv import load_dotenv\n",
    "\n",
    "load_dotenv(override=True)\n",
    "\n",
    "# os.environ[\"DEEPSEEK_API_KEY\"] = os.environ[\"SF_API_KEY\"]\n",
    "os.environ[\"DEEPSEEK_API_BASE\"] = os.environ[\"SF_API_BASE\"]\n",
    "\n",
    "llm = ChatDeepSeek(\n",
    "    model=\"deepseek-ai/DeepSeek-V3\",\n",
    "    api_key=os.environ[\"SF_API_KEY\"],\n",
    "    temperature=0,\n",
    "    max_retries=2,\n",
    "    # other params...\n",
    ")\n",
    "\n",
    "# 定义子链\n",
    "prompt = ChatPromptTemplate.from_template(\"总结文本：{text}\")\n",
    "# debug_prompt = prompt | (lambda x: print(\"提示内容:\\n\", x.to_messages()) or x)\n",
    "summary_chain = (\n",
    "    prompt #| (lambda x: print(\"提示内容:\\n\", x.to_messages()) or x)\n",
    "    | llm \n",
    "    | StrOutputParser()\n",
    ")\n",
    "\n",
    "sentiment_chain = (\n",
    "    ChatPromptTemplate.from_template(\"分析文本情感倾向：{text}\")\n",
    "    | llm \n",
    "    | StrOutputParser()\n",
    ")\n",
    "\n",
    "# 并行处理链\n",
    "parallel_chain = RunnableParallel({\n",
    "    \"summary\": summary_chain,\n",
    "    \"sentiment\": sentiment_chain\n",
    "})\n",
    "\n",
    "# 执行\n",
    "input_data = {\"text\": \"这款手机拍照效果出色，但电池续航较差\"}\n",
    "result = parallel_chain.invoke(input_data)"
   ]
  }
 ],
 "metadata": {
  "kernelspec": {
   "display_name": "Python 3",
   "language": "python",
   "name": "python3"
  },
  "language_info": {
   "codemirror_mode": {
    "name": "ipython",
    "version": 3
   },
   "file_extension": ".py",
   "mimetype": "text/x-python",
   "name": "python",
   "nbconvert_exporter": "python",
   "pygments_lexer": "ipython3",
   "version": "3.12.4"
  }
 },
 "nbformat": 4,
 "nbformat_minor": 2
}
