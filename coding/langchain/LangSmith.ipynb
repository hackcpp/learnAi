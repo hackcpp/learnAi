{
 "cells": [
  {
   "cell_type": "code",
   "execution_count": null,
   "metadata": {},
   "outputs": [],
   "source": [
    "%pip install langsmith"
   ]
  },
  {
   "cell_type": "code",
   "execution_count": null,
   "metadata": {},
   "outputs": [
    {
     "name": "stdout",
     "output_type": "stream",
     "text": [
      "连接失败: Connection error caused failure to GET /sessions in LangSmith API. Please confirm your internet connection. ConnectionError(MaxRetryError(\"HTTPSConnectionPool(host='api.smith.langchain.com', port=443): Max retries exceeded with url: /sessions?limit=100&offset=0 (Caused by NewConnectionError('<urllib3.connection.HTTPSConnection object at 0x110a91e80>: Failed to establish a new connection: [Errno 61] Connection refused'))\"))\n",
      "Content-Length: None\n",
      "API Key: lsv2_********************************************d7\n"
     ]
    },
    {
     "name": "stderr",
     "output_type": "stream",
     "text": [
      "Failed to get info from https://api.smith.langchain.com: LangSmithConnectionError('Connection error caused failure to GET /info in LangSmith API. Please confirm your internet connection. ConnectionError(MaxRetryError(\"HTTPSConnectionPool(host=\\'api.smith.langchain.com\\', port=443): Max retries exceeded with url: /info (Caused by NewConnectionError(\\'<urllib3.connection.HTTPSConnection object at 0x110a92300>: Failed to establish a new connection: [Errno 61] Connection refused\\'))\"))\\nContent-Length: None\\nAPI Key: lsv2_********************************************d7')\n"
     ]
    }
   ],
   "source": [
    "from langsmith import Client\n",
    "# 测试连接\n",
    "try:\n",
    "    client = Client()\n",
    "    for p in  client.list_projects():\n",
    "        print(p)\n",
    "    # print(\"连接成功！项目列表:\", client.list_projects())\n",
    "except Exception as e:\n",
    "    print(\"连接失败:\", str(e))"
   ]
  },
  {
   "cell_type": "code",
   "execution_count": null,
   "metadata": {},
   "outputs": [],
   "source": [
    "from dotenv import load_dotenv\n",
    "load_dotenv(dotenv_path=\"../../.env\",override=True)\n",
    "from os import getenv\n",
    "\n",
    "import os\n",
    "\n",
    "key = getenv(\"SF_API_KEY\") \n",
    "url = getenv(\"SF_API_BASE\")\n",
    "model = getenv(\"SF_MODEL\")\n",
    "\n",
    "os.environ[\"DEEPSEEK_API_KEY\"] = key\n",
    "os.environ[\"DEEPSEEK_API_BASE\"] = url\n",
    "print(key, url, model)"
   ]
  },
  {
   "cell_type": "code",
   "execution_count": 3,
   "metadata": {},
   "outputs": [
    {
     "name": "stderr",
     "output_type": "stream",
     "text": [
      "Failed to get info from https://api.smith.langchain.com: LangSmithConnectionError('Connection error caused failure to GET /info in LangSmith API. Please confirm your internet connection. ConnectionError(MaxRetryError(\"HTTPSConnectionPool(host=\\'api.smith.langchain.com\\', port=443): Max retries exceeded with url: /info (Caused by NewConnectionError(\\'<urllib3.connection.HTTPSConnection object at 0x11259e390>: Failed to establish a new connection: [Errno 61] Connection refused\\'))\"))\\nContent-Length: None\\nAPI Key: lsv2_********************************************d7')\n",
      "Failed to batch ingest runs: langsmith.utils.LangSmithConnectionError: Connection error caused failure to POST https://api.smith.langchain.com/runs/batch in LangSmith API. Please confirm your internet connection. ConnectionError(MaxRetryError(\"HTTPSConnectionPool(host='api.smith.langchain.com', port=443): Max retries exceeded with url: /runs/batch (Caused by NewConnectionError('<urllib3.connection.HTTPSConnection object at 0x11259ef90>: Failed to establish a new connection: [Errno 61] Connection refused'))\"))\n",
      "Content-Length: 10593\n",
      "API Key: lsv2_********************************************d7\n",
      "post: trace=62ca942d-878f-437d-956b-58877d030dd8,id=62ca942d-878f-437d-956b-58877d030dd8; trace=62ca942d-878f-437d-956b-58877d030dd8,id=97ad0a55-8133-4cf1-aea3-94f691cdb074; trace=62ca942d-878f-437d-956b-58877d030dd8,id=75081531-7f6f-4a62-9293-c23dae8ee03c; trace=62ca942d-878f-437d-956b-58877d030dd8,id=47a065b1-6223-4664-9aee-ce14bf760cb8; trace=62ca942d-878f-437d-956b-58877d030dd8,id=57b6000c-ef2b-4343-9074-15cc84de6c46; trace=62ca942d-878f-437d-956b-58877d030dd8,id=e9ee458f-d0b6-4889-92e8-b16e072b1c27; trace=62ca942d-878f-437d-956b-58877d030dd8,id=941fb62d-7925-4a41-a5cf-59a425d0a485\n"
     ]
    },
    {
     "name": "stderr",
     "output_type": "stream",
     "text": [
      "Failed to batch ingest runs: langsmith.utils.LangSmithConnectionError: Connection error caused failure to POST https://api.smith.langchain.com/runs/batch in LangSmith API. Please confirm your internet connection. ConnectionError(MaxRetryError(\"HTTPSConnectionPool(host='api.smith.langchain.com', port=443): Max retries exceeded with url: /runs/batch (Caused by NewConnectionError('<urllib3.connection.HTTPSConnection object at 0x110a728d0>: Failed to establish a new connection: [Errno 61] Connection refused'))\"))\n",
      "Content-Length: 6750\n",
      "API Key: lsv2_********************************************d7\n",
      "post: trace=62ca942d-878f-437d-956b-58877d030dd8,id=d7d10cec-cfb9-4f56-adee-0232775d2d29; patch: trace=62ca942d-878f-437d-956b-58877d030dd8,id=97ad0a55-8133-4cf1-aea3-94f691cdb074; trace=62ca942d-878f-437d-956b-58877d030dd8,id=47a065b1-6223-4664-9aee-ce14bf760cb8\n",
      "Failed to batch ingest runs: langsmith.utils.LangSmithConnectionError: Connection error caused failure to POST https://api.smith.langchain.com/runs/batch in LangSmith API. Please confirm your internet connection. ConnectionError(MaxRetryError(\"HTTPSConnectionPool(host='api.smith.langchain.com', port=443): Max retries exceeded with url: /runs/batch (Caused by NewConnectionError('<urllib3.connection.HTTPSConnection object at 0x1125b63c0>: Failed to establish a new connection: [Errno 61] Connection refused'))\"))\n",
      "Content-Length: 10216\n",
      "API Key: lsv2_********************************************d7\n",
      "post: trace=62ca942d-878f-437d-956b-58877d030dd8,id=7fb7c65c-e459-4145-b86e-1c447f244998; patch: trace=62ca942d-878f-437d-956b-58877d030dd8,id=62ca942d-878f-437d-956b-58877d030dd8; trace=62ca942d-878f-437d-956b-58877d030dd8,id=57b6000c-ef2b-4343-9074-15cc84de6c46; trace=62ca942d-878f-437d-956b-58877d030dd8,id=941fb62d-7925-4a41-a5cf-59a425d0a485\n"
     ]
    }
   ],
   "source": [
    "from langchain_deepseek import ChatDeepSeek\n",
    "from langchain_core.prompts import ChatPromptTemplate\n",
    "from langchain_core.output_parsers import StrOutputParser\n",
    "from langchain_core.runnables import RunnableParallel\n",
    "\n",
    "\n",
    "llm = ChatDeepSeek(\n",
    "    model=model,\n",
    "    temperature=0,\n",
    "    max_retries=2,\n",
    "    # other params...\n",
    ")\n",
    "\n",
    "# 定义子链\n",
    "prompt = ChatPromptTemplate.from_template(\"总结文本：{text}\")\n",
    "# debug_prompt = prompt | (lambda x: print(\"提示内容:\\n\", x.to_messages()) or x)\n",
    "summary_chain = (\n",
    "    prompt #| (lambda x: print(\"提示内容:\\n\", x.to_messages()) or x)\n",
    "    | llm \n",
    "    | StrOutputParser()\n",
    ")\n",
    "\n",
    "sentiment_chain = (\n",
    "    ChatPromptTemplate.from_template(\"分析文本情感倾向：{text}\")\n",
    "    | llm \n",
    "    | StrOutputParser()\n",
    ")\n",
    "\n",
    "# 并行处理链\n",
    "parallel_chain = RunnableParallel({\n",
    "    \"summary\": summary_chain,\n",
    "    \"sentiment\": sentiment_chain\n",
    "})\n",
    "\n",
    "# 执行\n",
    "input_data = {\"text\": \"这款手机拍照效果出色，但电池续航较差\"}\n",
    "result = parallel_chain.invoke(input_data)"
   ]
  }
 ],
 "metadata": {
  "kernelspec": {
   "display_name": "Python 3",
   "language": "python",
   "name": "python3"
  },
  "language_info": {
   "codemirror_mode": {
    "name": "ipython",
    "version": 3
   },
   "file_extension": ".py",
   "mimetype": "text/x-python",
   "name": "python",
   "nbconvert_exporter": "python",
   "pygments_lexer": "ipython3",
   "version": "3.12.4"
  }
 },
 "nbformat": 4,
 "nbformat_minor": 2
}
