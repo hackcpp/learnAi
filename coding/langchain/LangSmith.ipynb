{
 "cells": [
  {
   "cell_type": "code",
   "execution_count": null,
   "metadata": {},
   "outputs": [],
   "source": [
    "%pip install langsmith"
   ]
  },
  {
   "cell_type": "code",
   "execution_count": null,
   "metadata": {},
   "outputs": [],
   "source": [
    "from langsmith import Client\n",
    "# 测试连接\n",
    "try:\n",
    "    client = Client()\n",
    "    for p in  client.list_projects():\n",
    "        print(p)\n",
    "    # print(\"连接成功！项目列表:\", client.list_projects())\n",
    "except Exception as e:\n",
    "    print(\"连接失败:\", str(e))"
   ]
  },
  {
   "cell_type": "code",
   "execution_count": null,
   "metadata": {},
   "outputs": [],
   "source": [
    "from dotenv import load_dotenv\n",
    "load_dotenv(dotenv_path=\"../../.env\",override=True)\n",
    "from os import getenv\n",
    "\n",
    "import os\n",
    "\n",
    "key = getenv(\"SF_API_KEY\") \n",
    "url = getenv(\"SF_API_BASE\")\n",
    "model = getenv(\"SF_MODEL\")\n",
    "\n",
    "os.environ[\"DEEPSEEK_API_KEY\"] = key\n",
    "os.environ[\"DEEPSEEK_API_BASE\"] = url\n",
    "print(key, url, model)"
   ]
  },
  {
   "cell_type": "code",
   "execution_count": null,
   "metadata": {},
   "outputs": [],
   "source": [
    "from langchain_deepseek import ChatDeepSeek\n",
    "from langchain_core.prompts import ChatPromptTemplate\n",
    "from langchain_core.output_parsers import StrOutputParser\n",
    "from langchain_core.runnables import RunnableParallel\n",
    "\n",
    "\n",
    "llm = ChatDeepSeek(\n",
    "    model=model,\n",
    "    temperature=0,\n",
    "    max_retries=2,\n",
    "    # other params...\n",
    ")\n",
    "\n",
    "# 定义子链\n",
    "prompt = ChatPromptTemplate.from_template(\"总结文本：{text}\")\n",
    "# debug_prompt = prompt | (lambda x: print(\"提示内容:\\n\", x.to_messages()) or x)\n",
    "summary_chain = (\n",
    "    prompt #| (lambda x: print(\"提示内容:\\n\", x.to_messages()) or x)\n",
    "    | llm \n",
    "    | StrOutputParser()\n",
    ")\n",
    "\n",
    "sentiment_chain = (\n",
    "    ChatPromptTemplate.from_template(\"分析文本情感倾向：{text}\")\n",
    "    | llm \n",
    "    | StrOutputParser()\n",
    ")\n",
    "\n",
    "# 并行处理链\n",
    "parallel_chain = RunnableParallel({\n",
    "    \"summary\": summary_chain,\n",
    "    \"sentiment\": sentiment_chain\n",
    "})\n",
    "\n",
    "# 执行\n",
    "input_data = {\"text\": \"这款手机拍照效果出色，但电池续航较差\"}\n",
    "result = parallel_chain.invoke(input_data)"
   ]
  }
 ],
 "metadata": {
  "kernelspec": {
   "display_name": "Python 3",
   "language": "python",
   "name": "python3"
  },
  "language_info": {
   "codemirror_mode": {
    "name": "ipython",
    "version": 3
   },
   "file_extension": ".py",
   "mimetype": "text/x-python",
   "name": "python",
   "nbconvert_exporter": "python",
   "pygments_lexer": "ipython3",
   "version": "3.12.4"
  }
 },
 "nbformat": 4,
 "nbformat_minor": 2
}
